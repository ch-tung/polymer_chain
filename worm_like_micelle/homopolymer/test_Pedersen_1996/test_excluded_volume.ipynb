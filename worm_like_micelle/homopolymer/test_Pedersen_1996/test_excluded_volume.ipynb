{
 "cells": [
  {
   "cell_type": "code",
   "execution_count": 1,
   "id": "ec9a3146",
   "metadata": {},
   "outputs": [],
   "source": [
    "import numpy as np\n",
    "import matplotlib.pyplot as plt\n",
    "import Sk\n",
    "from tqdm import tqdm\n",
    "\n",
    "from WLM import WLChain"
   ]
  },
  {
   "cell_type": "code",
   "execution_count": 2,
   "id": "b7278992",
   "metadata": {},
   "outputs": [],
   "source": [
    "q = (np.logspace(0,4,65))\n",
    "\n",
    "q\n",
    "L = 1\n",
    "b = L/100*2 # Kuhn length\n",
    "\n",
    "N_backbone = 10000\n",
    "a_backbone = N_backbone/100\n",
    "lambda_backbone = 1/N_backbone"
   ]
  },
  {
   "cell_type": "code",
   "execution_count": 3,
   "id": "b61ac156",
   "metadata": {},
   "outputs": [],
   "source": [
    "# Pedersen_1996\n",
    "S_q = Sk.Sk(q,L,b)"
   ]
  },
  {
   "cell_type": "code",
   "execution_count": null,
   "id": "5963872e",
   "metadata": {},
   "outputs": [
    {
     "name": "stderr",
     "output_type": "stream",
     "text": [
      " 91%|██████████████████████████████████████████████████████████████████████████▌       | 91/100 [03:04<00:20,  2.25s/it]"
     ]
    }
   ],
   "source": [
    "# MC\n",
    "def sample_S_q(n_sample,chain_func,p):\n",
    "    S_q = np.zeros_like(q)\n",
    "    for i in tqdm(range(n_sample)):\n",
    "        chain_func.chain_fix_val_free_rot()\n",
    "        chain_func.scatter_direct(q,n_merge=1,p_sub=p)\n",
    "        S_q += chain_func.S_q\n",
    "        \n",
    "    return(S_q)\n",
    "\n",
    "d_exc = [1e-3,1e-1,1e1]\n",
    "S_q_MC_d = np.zeros([len(q),len(d_exc)])\n",
    "for i, d in enumerate(d_exc):\n",
    "    chain = WLChain(N_backbone,a_backbone,lambda_backbone)\n",
    "    chain.d_exc = chain.a*d*lambda_backbone\n",
    "    chain.apply_SA = 1\n",
    "\n",
    "    n_sample = 100\n",
    "    S_q_sample = sample_S_q(n_sample,chain,0.02)\n",
    "    S_q_MC = S_q_sample/n_sample\n",
    "    S_q_MC_d[:,i] = S_q_MC"
   ]
  },
  {
   "cell_type": "code",
   "execution_count": null,
   "id": "18e05c65",
   "metadata": {},
   "outputs": [],
   "source": [
    "plt.close('all')\n",
    "fig = plt.figure(figsize=(6, 6))\n",
    "ax = fig.add_subplot()\n",
    "ax.plot(q,S_q,'-k')\n",
    "ax.plot(q,S_q_MC_d[:,0],'-')\n",
    "ax.set_xscale('log')\n",
    "ax.set_yscale('log')\n",
    "\n",
    "plt.show()"
   ]
  },
  {
   "cell_type": "code",
   "execution_count": null,
   "id": "41c64f31",
   "metadata": {},
   "outputs": [],
   "source": [
    "chain.plot()"
   ]
  },
  {
   "cell_type": "code",
   "execution_count": null,
   "id": "927692a6",
   "metadata": {},
   "outputs": [],
   "source": []
  }
 ],
 "metadata": {
  "kernelspec": {
   "display_name": "Python 3",
   "language": "python",
   "name": "python3"
  },
  "language_info": {
   "codemirror_mode": {
    "name": "ipython",
    "version": 3
   },
   "file_extension": ".py",
   "mimetype": "text/x-python",
   "name": "python",
   "nbconvert_exporter": "python",
   "pygments_lexer": "ipython3",
   "version": "3.8.11"
  }
 },
 "nbformat": 4,
 "nbformat_minor": 5
}
