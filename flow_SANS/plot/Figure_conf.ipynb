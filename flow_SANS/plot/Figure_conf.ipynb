{
 "cells": [
  {
   "cell_type": "code",
   "execution_count": 1,
   "metadata": {},
   "outputs": [],
   "source": [
    "import matplotlib.pyplot as plt\n",
    "import numpy as np\n",
    "import matplotlib.patches as mpatches\n",
    "import random\n",
    "import pyvista as pv\n",
    "pv.set_jupyter_backend('none')"
   ]
  },
  {
   "cell_type": "code",
   "execution_count": 2,
   "metadata": {},
   "outputs": [
    {
     "ename": "",
     "evalue": "",
     "output_type": "error",
     "traceback": [
      "\u001b[1;31mThe Kernel crashed while executing code in the current cell or a previous cell. \n",
      "\u001b[1;31mPlease review the code in the cell(s) to identify a possible cause of the failure. \n",
      "\u001b[1;31mClick <a href='https://aka.ms/vscodeJupyterKernelCrash'>here</a> for more info. \n",
      "\u001b[1;31mView Jupyter <a href='command:jupyter.viewOutput'>log</a> for further details."
     ]
    }
   ],
   "source": [
    "def load_config(folder, param, id_sample):\n",
    "    L, kappa, f, gL = param\n",
    "    finfo = f\"L{L}_kappa{kappa:1d}_f{f:.2f}_gL{gL:.2f}\"\n",
    "    filename = f\"{folder}/{finfo}/config_{id_sample}.csv\"\n",
    "    data = np.genfromtxt(filename, delimiter=',', skip_header=1)\n",
    "    return data\n"
   ]
  },
  {
   "cell_type": "code",
   "execution_count": null,
   "metadata": {},
   "outputs": [],
   "source": [
    "list_params = [(200, 10, 0.0, 0.0), (200, 10, 0.0, 0.3), (200, 10, 0.0, 0.9)]\n",
    "folder = f'../data/20240920_precision'\n",
    "n_spline = 1000\n",
    "\n",
    "for param in list_params:\n",
    "    # pyvista_visualization\n",
    "    pv.set_plot_theme('document')\n",
    "    pl = pv.Plotter(window_size=[600, 600])\n",
    "    pl.enable_anti_aliasing('msaa')\n",
    "    L, kappa, f, gL = param\n",
    "    finfo = f\"L{L}_kappa{kappa:1d}_f{f:.2f}_gL{gL:.2f}\"\n",
    "    \n",
    "    for id_sample in range(5):\n",
    "        \n",
    "        data = load_config(folder, param, id_sample)\n",
    "        points_segment = data[:, 0:3]\n",
    "        \n",
    "        \n",
    "        spline = pv.Spline(points_segment, n_spline)\n",
    "        spline[\"radius\"] = np.ones(n_spline)*10\n",
    "        tube = spline.tube(scalars=\"radius\")\n",
    "        pl.add_mesh(tube, color='#FF0000',\n",
    "                ambient=0.2, diffuse=0.8, specular=0.1, specular_power=10)\n",
    "        \n",
    "    # Set the camera position to view along y-axis\n",
    "    pl.camera.azimuth = 0\n",
    "    pl.camera.elevation = 0\n",
    "\n",
    "    # Set the camera to use orthogonal projection\n",
    "    pl.camera_parallel_projection = False\n",
    "    \n",
    "    pl.screenshot(f\"{finfo}.png\")\n",
    "        \n",
    "        \n",
    "    "
   ]
  },
  {
   "cell_type": "code",
   "execution_count": null,
   "metadata": {},
   "outputs": [],
   "source": []
  }
 ],
 "metadata": {
  "kernelspec": {
   "display_name": "torch",
   "language": "python",
   "name": "python3"
  },
  "language_info": {
   "codemirror_mode": {
    "name": "ipython",
    "version": 3
   },
   "file_extension": ".py",
   "mimetype": "text/x-python",
   "name": "python",
   "nbconvert_exporter": "python",
   "pygments_lexer": "ipython3",
   "version": "3.9.7"
  }
 },
 "nbformat": 4,
 "nbformat_minor": 2
}
